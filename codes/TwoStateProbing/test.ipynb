{
 "cells": [
  {
   "cell_type": "code",
   "execution_count": 3,
   "metadata": {},
   "outputs": [],
   "source": [
    "from Simulator import Simulator\n",
    "import numpy as np\n",
    "\n",
    "def driver():\n",
    "    \n",
    "    simulator = Simulator(time_horizon=30)\n",
    "    simulator.simulate()\n",
    "    \n",
    "    print(f\"Actual values:      {simulator.actual_values}\")\n",
    "    print(f\"MDP Values:         {simulator.mdp_values}\")\n",
    "    print(f\"Algorithm Values:   {simulator.alg_values}\")\n",
    "    print(f\"Bernoulli Values:   {simulator.bernoulli_values}\")\n",
    "    \n",
    "    \n",
    "    print(f\"The accuracy of the MDP sampler is {np.sum(np.array(simulator.mdp_values) == np.array(simulator.actual_values)) / len(simulator.actual_values)*100}%\")\n",
    "    print(f\"The accuracy of the algorithm is {np.sum(np.array(simulator.alg_values) == np.array(simulator.actual_values)) / len(simulator.actual_values)*100}%\")\n",
    "    print(f\"The accuracy of the Bernoulli sampler is {np.sum(np.array(simulator.bernoulli_values) == np.array(simulator.actual_values)) / len(simulator.actual_values)*100}%\")\n",
    "    \n",
    "    print(f\"\\nThe error of the MDP sampler is {simulator.mdp_error}\")\n",
    "    print(f\"The error of the algorithm is {simulator.alg_error}\")\n",
    "    print(f\"The error of the Bernoulli sampler is {simulator.bernoulli_error}\")\n"
   ]
  },
  {
   "cell_type": "code",
   "execution_count": 4,
   "metadata": {},
   "outputs": [
    {
     "name": "stdout",
     "output_type": "stream",
     "text": [
      "Actual values:      [0, 0, 1, 1, 1, 1, 1, 0, 0, 0, 0, 0, 0, 0, 0, 0, 0, 0, 0, 0, 1, 0, 1, 0, 0, 0, 0, 0, 0, 0]\n",
      "MDP Values:         [0, 0, 1, 1, 1, 1, 1, 0, 0, 0, 0, 0, 0, 0, 0, 0, 0, 0, 0, 0, 0, 0, 1, 0, 0, 0, 0, 0, 0, 0]\n",
      "Algorithm Values:   [0, 0, 1, 0, 1, 0, 1, 0, 0, 0, 0, 0, 0, 0, 0, 0, 0, 0, 0, 0, 1, 0, 1, 0, 0, 0, 0, 0, 0, 0]\n",
      "Bernoulli Values:   [0, 0, 1, 1, 0, 1, 0, 0, 0, 0, 0, 0, 0, 0, 0, 0, 0, 0, 0, 0, 0, 0, 0, 0, 0, 0, 0, 0, 0, 0]\n",
      "The accuracy of the MDP sampler is 96.66666666666667%\n",
      "The accuracy of the algorithm is 93.33333333333333%\n",
      "The accuracy of the Bernoulli sampler is 86.66666666666667%\n",
      "\n",
      "The error of the MDP sampler is 12.760000000000002\n",
      "The error of the algorithm is 12.040000000000003\n",
      "The error of the Bernoulli sampler is 13.000000000000002\n"
     ]
    }
   ],
   "source": [
    "driver()\n",
    "        "
   ]
  },
  {
   "cell_type": "code",
   "execution_count": 19,
   "metadata": {},
   "outputs": [
    {
     "name": "stdout",
     "output_type": "stream",
     "text": [
      "The average error of the MDP sampler is 22.280000001080285\n",
      "The average error of the algorithm is 20.15999999704183\n",
      "The average error of the Bernoulli sampler is 21.000000000000004\n"
     ]
    }
   ],
   "source": [
    "from Simulator import Simulator\n",
    "\n",
    "def get_expected_error(num_runs=10000000, time_horizon=30):\n",
    "    num_runs = num_runs\n",
    "    avg_mdp_error = 0\n",
    "    avg_alg_error = 0\n",
    "    avg_bernoulli_error = 0\n",
    "    \n",
    "    simulator = Simulator(time_horizon=time_horizon)\n",
    "    \n",
    "    for run in range(num_runs):\n",
    "        simulator.simulate()\n",
    "        avg_mdp_error += simulator.mdp_error\n",
    "        avg_alg_error += simulator.alg_error\n",
    "        avg_bernoulli_error += simulator.bernoulli_error\n",
    "        \n",
    "    avg_mdp_error /= num_runs\n",
    "    avg_alg_error /= num_runs\n",
    "    avg_bernoulli_error /= num_runs\n",
    "    \n",
    "    print(f\"The average error of the MDP sampler is {avg_mdp_error}\")\n",
    "    print(f\"The average error of the algorithm is {avg_alg_error}\")\n",
    "    print(f\"The average error of the Bernoulli sampler is {avg_bernoulli_error}\")\n",
    "    \n",
    "\n",
    "get_expected_error(time_horizon=50)\n",
    "    \n",
    "    "
   ]
  },
  {
   "cell_type": "code",
   "execution_count": null,
   "metadata": {},
   "outputs": [],
   "source": [
    "def get_expected_error_convergence(tolerance=1e-5, time_horizon=40):\n",
    "    pass"
   ]
  },
  {
   "cell_type": "markdown",
   "metadata": {},
   "source": []
  }
 ],
 "metadata": {
  "kernelspec": {
   "display_name": "Python 3.10.4 64-bit",
   "language": "python",
   "name": "python3"
  },
  "language_info": {
   "codemirror_mode": {
    "name": "ipython",
    "version": 3
   },
   "file_extension": ".py",
   "mimetype": "text/x-python",
   "name": "python",
   "nbconvert_exporter": "python",
   "pygments_lexer": "ipython3",
   "version": "3.10.4"
  },
  "orig_nbformat": 4,
  "vscode": {
   "interpreter": {
    "hash": "e7370f93d1d0cde622a1f8e1c04877d8463912d04d973331ad4851f04de6915a"
   }
  }
 },
 "nbformat": 4,
 "nbformat_minor": 2
}
