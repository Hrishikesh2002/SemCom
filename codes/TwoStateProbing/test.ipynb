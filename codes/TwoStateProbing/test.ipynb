{
 "cells": [
  {
   "cell_type": "code",
   "execution_count": 1,
   "metadata": {},
   "outputs": [
    {
     "name": "stdout",
     "output_type": "stream",
     "text": [
      "[[0.5 0.5]\n",
      " [0.5 0.5]]\n",
      "[[0.5 0.5]\n",
      " [0.5 0.5]]\n"
     ]
    }
   ],
   "source": [
    "import enum\n",
    "from Simulator import Decider, Simulator\n",
    "\n",
    "sim = Simulator()\n",
    "\n",
    "\n",
    "\n",
    "for i, action in enumerate(sim.decider.actions):\n",
    "    for j, current_state in enumerate(sim.decider.states):\n",
    "        prob = 0\n",
    "        for k, next_state in enumerate(sim.decider.states):\n",
    "            prob += sim.decider.transitions[i][j][k] \n",
    "            \n",
    "        if prob != 1:\n",
    "            \n",
    "            print(f\"action = {action}, current_state = {current_state}, prob = {prob}\")\n",
    "            \n",
    "            \n",
    "# print(sim.decider.transitions)\n",
    "# for state in sim.decider.states:\n",
    "#     print(f\"state = {state}\")"
   ]
  },
  {
   "cell_type": "code",
   "execution_count": null,
   "metadata": {},
   "outputs": [],
   "source": []
  }
 ],
 "metadata": {
  "kernelspec": {
   "display_name": "Python 3.10.4 64-bit",
   "language": "python",
   "name": "python3"
  },
  "language_info": {
   "codemirror_mode": {
    "name": "ipython",
    "version": 3
   },
   "file_extension": ".py",
   "mimetype": "text/x-python",
   "name": "python",
   "nbconvert_exporter": "python",
   "pygments_lexer": "ipython3",
   "version": "3.10.4"
  },
  "orig_nbformat": 4,
  "vscode": {
   "interpreter": {
    "hash": "e7370f93d1d0cde622a1f8e1c04877d8463912d04d973331ad4851f04de6915a"
   }
  }
 },
 "nbformat": 4,
 "nbformat_minor": 2
}
