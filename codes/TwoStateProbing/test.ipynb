{
 "cells": [
  {
   "cell_type": "code",
   "execution_count": 1,
   "metadata": {},
   "outputs": [
    {
     "name": "stdout",
     "output_type": "stream",
     "text": [
      "[[0.5 0.5]\n",
      " [0.5 0.5]]\n",
      "[[0.5 0.5]\n",
      " [0.5 0.5]]\n"
     ]
    }
   ],
   "source": [
    "import enum\n",
    "from Simulator import Decider, Simulator\n",
    "\n",
    "sim = Simulator()\n",
    "\n",
    "\n",
    "\n",
    "for i, action in enumerate(sim.decider.actions):\n",
    "    for j, current_state in enumerate(sim.decider.states):\n",
    "        prob = 0\n",
    "        for k, next_state in enumerate(sim.decider.states):\n",
    "            prob += sim.decider.transitions[i][j][k] \n",
    "            \n",
    "        if prob != 1:\n",
    "            \n",
    "            print(f\"action = {action}, current_state = {current_state}, prob = {prob}\")\n",
    "            \n",
    "            \n",
    "# print(sim.decider.transitions)\n",
    "# for state in sim.decider.states:\n",
    "#     print(f\"state = {state}\")"
   ]
  },
  {
   "cell_type": "code",
   "execution_count": 1,
   "metadata": {},
   "outputs": [
    {
     "name": "stdout",
     "output_type": "stream",
     "text": [
      "[state(last_sampled_value=0, last_sample_time=0), state(last_sampled_value=0, last_sample_time=1), state(last_sampled_value=0, last_sample_time=2), state(last_sampled_value=1, last_sample_time=0), state(last_sampled_value=1, last_sample_time=1), state(last_sampled_value=1, last_sample_time=2)]\n"
     ]
    }
   ],
   "source": [
    "class mdp_state:\n",
    "    def __init__(self, last_sampled_value, last_sample_time ) -> None:\n",
    "        self.last_sampled_value = last_sampled_value\n",
    "        self.last_sample_time = last_sample_time\n",
    "\n",
    "    def __repr__(self) -> str:\n",
    "        return f\"state(last_sampled_value={self.last_sampled_value}, last_sample_time={self.last_sample_time})\"\n",
    "\n",
    "\n",
    "states = [mdp_state(i,j) for i in range(2) for j in range(3)]\n",
    "\n",
    "print(states)\n"
   ]
  },
  {
   "cell_type": "code",
   "execution_count": 3,
   "metadata": {},
   "outputs": [],
   "source": [
    "if mdp_state(0,0) in states:\n",
    "    print(\"yes\")"
   ]
  },
  {
   "cell_type": "code",
   "execution_count": 6,
   "metadata": {},
   "outputs": [],
   "source": [
    "from Simulator import Simulator\n",
    "\n",
    "def driver():\n",
    "    \n",
    "    simulator = Simulator()\n",
    "    simulator.simulate()\n",
    "    \n",
    "    print(f\"Actual values:      {simulator.actual_values}\")\n",
    "    print(f\"MDP Values:         {simulator.mdp_values}\")\n",
    "    print(f\"Algorithm Values:   {simulator.alg_values}\")\n",
    "    print(f\"Bernoulli Values:   {simulator.bernoulli_values}\")\n",
    "    \n"
   ]
  },
  {
   "cell_type": "code",
   "execution_count": 7,
   "metadata": {},
   "outputs": [
    {
     "name": "stdout",
     "output_type": "stream",
     "text": [
      "Actual values:      [1, 1, 1, 1, 0, 0, 0, 0, 1, 1]\n",
      "MDP Values:         [0, 0, 1, 1, 0, 0, 0, 0, 0, 0]\n",
      "Algorithm Values:   [0, 0, 1, 0, 0, 0, 0, 0, 0, 0]\n",
      "Bernoulli Values:   [1, 1, 1, 0, 0, 0, 0, 0, 0, 1]\n"
     ]
    }
   ],
   "source": [
    "driver()\n",
    "        "
   ]
  },
  {
   "cell_type": "code",
   "execution_count": null,
   "metadata": {},
   "outputs": [],
   "source": []
  }
 ],
 "metadata": {
  "kernelspec": {
   "display_name": "Python 3.10.4 64-bit",
   "language": "python",
   "name": "python3"
  },
  "language_info": {
   "codemirror_mode": {
    "name": "ipython",
    "version": 3
   },
   "file_extension": ".py",
   "mimetype": "text/x-python",
   "name": "python",
   "nbconvert_exporter": "python",
   "pygments_lexer": "ipython3",
   "version": "3.10.4"
  },
  "orig_nbformat": 4,
  "vscode": {
   "interpreter": {
    "hash": "e7370f93d1d0cde622a1f8e1c04877d8463912d04d973331ad4851f04de6915a"
   }
  }
 },
 "nbformat": 4,
 "nbformat_minor": 2
}
