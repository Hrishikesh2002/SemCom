{
 "cells": [
  {
   "cell_type": "code",
   "execution_count": 46,
   "metadata": {},
   "outputs": [],
   "source": [
    "from Simulator import Simulator\n",
    "import numpy as np\n",
    "\n",
    "def driver():\n",
    "    \n",
    "    simulator = Simulator(time_horizon=30)\n",
    "    simulator.simulate()\n",
    "    \n",
    "    print(f\"Actual values:      {simulator.actual_values}\")\n",
    "    print(f\"MDP Values:         {simulator.mdp_values}\")\n",
    "    print(f\"Algorithm Values:   {simulator.alg_values}\")\n",
    "    print(f\"Bernoulli Values:   {simulator.bernoulli_values}\")\n",
    "    \n",
    "    \n",
    "    print(f\"The accuracy of the MDP sampler is {np.sum(np.array(simulator.mdp_values) == np.array(simulator.actual_values)) / len(simulator.actual_values)*100}%\")\n",
    "    print(f\"The accuracy of the algorithm is {np.sum(np.array(simulator.alg_values) == np.array(simulator.actual_values)) / len(simulator.actual_values)*100}%\")\n",
    "    print(f\"The accuracy of the Bernoulli sampler is {np.sum(np.array(simulator.bernoulli_values) == np.array(simulator.actual_values)) / len(simulator.actual_values)*100}%\")\n",
    "    \n",
    "    # print(f\"\\nThe error of the MDP sampler is {simulator.mdp_error}\")\n",
    "    # print(f\"The error of the algorithm is {simulator.alg_error}\")\n",
    "    # print(f\"The error of the Bernoulli sampler is {simulator.bernoulli_error}\")\n"
   ]
  },
  {
   "cell_type": "code",
   "execution_count": 47,
   "metadata": {},
   "outputs": [
    {
     "name": "stdout",
     "output_type": "stream",
     "text": [
      "Actual values:      [0, 0, 0, 0, 0, 0, 0, 0, 0, 0]\n",
      "MDP Values:         [0, 0, 0, 0, 0, 0, 0, 0, 0, 0]\n",
      "Algorithm Values:   [0, 0, 0, 0, 0, 0, 0, 0, 0, 0]\n",
      "Bernoulli Values:   [0, 0, 0, 0, 0, 0, 0, 0, 0, 0]\n",
      "The accuracy of the MDP sampler is 100.0%\n",
      "The accuracy of the algorithm is 100.0%\n",
      "The accuracy of the Bernoulli sampler is 100.0%\n"
     ]
    }
   ],
   "source": [
    "driver()\n",
    "        "
   ]
  },
  {
   "cell_type": "code",
   "execution_count": null,
   "metadata": {},
   "outputs": [],
   "source": []
  }
 ],
 "metadata": {
  "kernelspec": {
   "display_name": "Python 3.10.4 64-bit",
   "language": "python",
   "name": "python3"
  },
  "language_info": {
   "codemirror_mode": {
    "name": "ipython",
    "version": 3
   },
   "file_extension": ".py",
   "mimetype": "text/x-python",
   "name": "python",
   "nbconvert_exporter": "python",
   "pygments_lexer": "ipython3",
   "version": "3.10.4"
  },
  "orig_nbformat": 4,
  "vscode": {
   "interpreter": {
    "hash": "e7370f93d1d0cde622a1f8e1c04877d8463912d04d973331ad4851f04de6915a"
   }
  }
 },
 "nbformat": 4,
 "nbformat_minor": 2
}
